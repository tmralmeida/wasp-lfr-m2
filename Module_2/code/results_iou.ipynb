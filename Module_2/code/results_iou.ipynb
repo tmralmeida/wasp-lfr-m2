{
 "cells": [
  {
   "cell_type": "code",
   "execution_count": 3,
   "metadata": {},
   "outputs": [],
   "source": [
    "import os\n",
    "import cv2\n",
    "import numpy as np\n",
    "from cvl.dataset import OnlineTrackingBenchmark\n",
    "from cvl.trackers import MOSSETracker, DCFMOSSETracker\n",
    "from cvl.lib import get_roi, resume_performance, get_arguments\n",
    "import matplotlib.pyplot as plt\n",
    "from copy import copy, deepcopy\n",
    "import torch\n",
    "from tqdm.notebook import tqdm as tqdm\n",
    "import json"
   ]
  },
  {
   "cell_type": "code",
   "execution_count": 2,
   "metadata": {},
   "outputs": [],
   "source": [
    "ds_path = \"Mini-OTB/\""
   ]
  },
  {
   "cell_type": "code",
   "execution_count": 3,
   "metadata": {},
   "outputs": [],
   "source": [
    "seq_list = os.listdir(ds_path)"
   ]
  },
  {
   "cell_type": "code",
   "execution_count": 4,
   "metadata": {},
   "outputs": [],
   "source": [
    "dataset = OnlineTrackingBenchmark(ds_path)"
   ]
  },
  {
   "cell_type": "markdown",
   "metadata": {},
   "source": [
    "# 1) Choose the tracker"
   ]
  },
  {
   "cell_type": "code",
   "execution_count": 5,
   "metadata": {},
   "outputs": [],
   "source": [
    "TRACKER = \"vgg16\" # [\"mosse\", \"resnet\", \"mobilenet\", \"alexnet\", \"vgg16\", \"hog\"]"
   ]
  },
  {
   "cell_type": "code",
   "execution_count": 6,
   "metadata": {},
   "outputs": [],
   "source": [
    "device = \"cuda:0\" if torch.cuda.is_available() else \"cpu\""
   ]
  },
  {
   "cell_type": "code",
   "execution_count": 7,
   "metadata": {},
   "outputs": [],
   "source": [
    "if TRACKER == \"mosse\":\n",
    "    tracker = MOSSETracker()\n",
    "    squared = False\n",
    "    bigger = True\n",
    "elif TRACKER in [\"resnet\", \"mobilenet\", \"alexnet\", \"vgg16\", \"hog\"]:\n",
    "    tracker = DCFMOSSETracker(dev = device, features = TRACKER)\n",
    "    squared = True\n",
    "    bigger = True"
   ]
  },
  {
   "cell_type": "code",
   "execution_count": 8,
   "metadata": {},
   "outputs": [],
   "source": [
    "results = {}"
   ]
  },
  {
   "cell_type": "code",
   "execution_count": null,
   "metadata": {},
   "outputs": [
    {
     "name": "stdout",
     "output_type": "stream",
     "text": [
      "----------------------------Evaluating video named Basketball----------------------------------\n",
      "mIoU: 0.8701828133552272\n",
      "----------------------------Evaluating video named Biker----------------------------------\n",
      "mIoU: 0.24090797652104243\n",
      "----------------------------Evaluating video named BlurBody----------------------------------\n",
      "mIoU: 0.11383801583045508\n",
      "----------------------------Evaluating video named BlurCar3----------------------------------\n",
      "mIoU: 0.521603729533113\n",
      "----------------------------Evaluating video named Bolt----------------------------------\n",
      "mIoU: 0.013513747939977448\n",
      "----------------------------Evaluating video named Box----------------------------------\n",
      "mIoU: 0.42211570608579363\n",
      "----------------------------Evaluating video named CarScale----------------------------------\n",
      "mIoU: 0.3271556791449739\n",
      "----------------------------Evaluating video named Coke----------------------------------\n",
      "mIoU: 0.6678387945863345\n",
      "----------------------------Evaluating video named Coupon----------------------------------\n",
      "mIoU: 0.3866623745909115\n",
      "----------------------------Evaluating video named Crossing----------------------------------\n",
      "mIoU: 0.45872616911344094\n",
      "----------------------------Evaluating video named Crowds----------------------------------\n",
      "mIoU: 0.7260282386353865\n",
      "----------------------------Evaluating video named DragonBaby----------------------------------\n",
      "mIoU: 0.35168012913197766\n",
      "----------------------------Evaluating video named FaceOcc1----------------------------------\n",
      "mIoU: 0.8541225940554149\n",
      "----------------------------Evaluating video named Human7----------------------------------\n",
      "mIoU: 0.24441764841764843\n",
      "----------------------------Evaluating video named Human9----------------------------------\n",
      "mIoU: 0.10270416604000601\n",
      "----------------------------Evaluating video named Ironman----------------------------------\n",
      "mIoU: 0.16025307658089138\n",
      "----------------------------Evaluating video named Jogging----------------------------------\n",
      "mIoU: 0.6808387689953886\n",
      "----------------------------Evaluating video named KiteSurf----------------------------------\n",
      "mIoU: 0.19199559206571828\n",
      "----------------------------Evaluating video named Liquor----------------------------------\n"
     ]
    }
   ],
   "source": [
    "for idx, seq in enumerate(dataset):\n",
    "    print(f\"----------------------------Evaluating video named {seq.sequence_name}----------------------------------\")\n",
    "    bboxes = []\n",
    "    for frame_idx, frame in enumerate(seq):\n",
    "        image_color = frame['image']\n",
    "        if TRACKER == \"mosse\":\n",
    "            image = np.sum(image_color, 2) / 3 # grayscale\n",
    "        else:\n",
    "            image = np.transpose(np.float64(image_color), (2, 0, 1))\n",
    "        if frame_idx == 0:\n",
    "            bbox = copy(frame['bounding_box'])\n",
    "            aaaa = bbox\n",
    "            if bbox.width % 2 == 0:\n",
    "                bbox.width += 1\n",
    "            if bbox.height % 2 == 0:\n",
    "                bbox.height += 1\n",
    "            roi = get_roi(bbox, squared = squared, bigger = bigger) # get roi slightly bigger that bbox\n",
    "            tracker.start(image, bbox, roi) # first frame approach\n",
    "        else:\n",
    "            tracker.detect(image)\n",
    "            tracker.update()\n",
    "        bboxes.append(copy(tracker.bbox))\n",
    "    ious = dataset.calculate_per_frame_iou(idx, bboxes)\n",
    "    print(\"mIoU:\", np.mean(ious))\n",
    "    results[idx] = np.mean(ious)"
   ]
  },
  {
   "cell_type": "code",
   "execution_count": 13,
   "metadata": {},
   "outputs": [],
   "source": [
    "result_file = f\"../results/ious/experiments/2/best_variation_layers/vgg16/block1.json\""
   ]
  },
  {
   "cell_type": "code",
   "execution_count": 10,
   "metadata": {},
   "outputs": [
    {
     "ename": "NameError",
     "evalue": "name 'results' is not defined",
     "output_type": "error",
     "traceback": [
      "\u001b[0;31m---------------------------------------------------------------------------\u001b[0m",
      "\u001b[0;31mNameError\u001b[0m                                 Traceback (most recent call last)",
      "\u001b[0;32m<ipython-input-10-b712f058a8e1>\u001b[0m in \u001b[0;36m<module>\u001b[0;34m\u001b[0m\n\u001b[1;32m      1\u001b[0m \u001b[0;32mwith\u001b[0m \u001b[0mopen\u001b[0m\u001b[0;34m(\u001b[0m\u001b[0mresult_file\u001b[0m\u001b[0;34m,\u001b[0m \u001b[0;34m'w'\u001b[0m\u001b[0;34m)\u001b[0m \u001b[0;32mas\u001b[0m \u001b[0mfp\u001b[0m\u001b[0;34m:\u001b[0m\u001b[0;34m\u001b[0m\u001b[0;34m\u001b[0m\u001b[0m\n\u001b[0;32m----> 2\u001b[0;31m     \u001b[0mjson\u001b[0m\u001b[0;34m.\u001b[0m\u001b[0mdump\u001b[0m\u001b[0;34m(\u001b[0m\u001b[0mresults\u001b[0m\u001b[0;34m,\u001b[0m \u001b[0mfp\u001b[0m\u001b[0;34m)\u001b[0m\u001b[0;34m\u001b[0m\u001b[0;34m\u001b[0m\u001b[0m\n\u001b[0m",
      "\u001b[0;31mNameError\u001b[0m: name 'results' is not defined"
     ]
    }
   ],
   "source": [
    "with open(result_file, 'w') as fp:\n",
    "    json.dump(results, fp)"
   ]
  },
  {
   "cell_type": "markdown",
   "metadata": {},
   "source": [
    "# 2) Load results"
   ]
  },
  {
   "cell_type": "code",
   "execution_count": 15,
   "metadata": {},
   "outputs": [],
   "source": [
    "with open(result_file) as fp:\n",
    "    data = json.load(fp)"
   ]
  },
  {
   "cell_type": "code",
   "execution_count": 16,
   "metadata": {},
   "outputs": [],
   "source": [
    "mIoU = 0"
   ]
  },
  {
   "cell_type": "code",
   "execution_count": 17,
   "metadata": {},
   "outputs": [],
   "source": [
    "for k,v in data.items():\n",
    "    mIoU += v"
   ]
  },
  {
   "cell_type": "code",
   "execution_count": 18,
   "metadata": {},
   "outputs": [
    {
     "data": {
      "text/plain": [
       "'29'"
      ]
     },
     "execution_count": 18,
     "metadata": {},
     "output_type": "execute_result"
    }
   ],
   "source": [
    "k "
   ]
  },
  {
   "cell_type": "code",
   "execution_count": 19,
   "metadata": {},
   "outputs": [
    {
     "data": {
      "text/plain": [
       "0.3524316212008757"
      ]
     },
     "execution_count": 19,
     "metadata": {},
     "output_type": "execute_result"
    }
   ],
   "source": [
    "mIoU / 30"
   ]
  },
  {
   "cell_type": "code",
   "execution_count": null,
   "metadata": {},
   "outputs": [],
   "source": []
  },
  {
   "cell_type": "code",
   "execution_count": null,
   "metadata": {},
   "outputs": [],
   "source": []
  },
  {
   "cell_type": "code",
   "execution_count": null,
   "metadata": {},
   "outputs": [],
   "source": []
  }
 ],
 "metadata": {
  "kernelspec": {
   "display_name": "Python 3",
   "language": "python",
   "name": "python3"
  },
  "language_info": {
   "codemirror_mode": {
    "name": "ipython",
    "version": 3
   },
   "file_extension": ".py",
   "mimetype": "text/x-python",
   "name": "python",
   "nbconvert_exporter": "python",
   "pygments_lexer": "ipython3",
   "version": "3.6.12"
  }
 },
 "nbformat": 4,
 "nbformat_minor": 4
}
