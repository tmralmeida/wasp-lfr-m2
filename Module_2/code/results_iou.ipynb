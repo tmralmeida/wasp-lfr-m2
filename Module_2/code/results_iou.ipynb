{
 "cells": [
  {
   "cell_type": "code",
   "execution_count": 7,
   "metadata": {},
   "outputs": [],
   "source": [
    "import os\n",
    "import cv2\n",
    "import numpy as np\n",
    "from cvl.dataset import OnlineTrackingBenchmark\n",
    "from cvl.trackers import MOSSETracker, DCFMOSSETracker\n",
    "from cvl.lib import get_roi, resume_performance, get_arguments\n",
    "import matplotlib.pyplot as plt\n",
    "from copy import copy, deepcopy\n",
    "import torch\n",
    "from tqdm.notebook import tqdm as tqdm\n",
    "import json"
   ]
  },
  {
   "cell_type": "code",
   "execution_count": 8,
   "metadata": {},
   "outputs": [],
   "source": [
    "ds_path = \"Mini-OTB/\""
   ]
  },
  {
   "cell_type": "code",
   "execution_count": 9,
   "metadata": {},
   "outputs": [],
   "source": [
    "seq_list = os.listdir(ds_path)"
   ]
  },
  {
   "cell_type": "code",
   "execution_count": 10,
   "metadata": {},
   "outputs": [],
   "source": [
    "dataset = OnlineTrackingBenchmark(ds_path)"
   ]
  },
  {
   "cell_type": "markdown",
   "metadata": {},
   "source": [
    "# 1) Choose the tracker"
   ]
  },
  {
   "cell_type": "code",
   "execution_count": 11,
   "metadata": {},
   "outputs": [],
   "source": [
    "TRACKER = \"mosse\" # [\"mosse\", \"resnet\", \"mobilenet\", \"alexnet\", \"vgg16\", \"hand_f\"]"
   ]
  },
  {
   "cell_type": "code",
   "execution_count": 12,
   "metadata": {},
   "outputs": [],
   "source": [
    "device = \"cuda:0\" if torch.cuda.is_available() else \"cpu\""
   ]
  },
  {
   "cell_type": "code",
   "execution_count": 13,
   "metadata": {},
   "outputs": [],
   "source": [
    "if TRACKER == \"mosse\":\n",
    "    tracker = MOSSETracker()\n",
    "    squared = False\n",
    "elif TRACKER in [\"resnet\", \"mobilenet\", \"alexnet\", \"vgg16\", \"hand_f\"]:\n",
    "    tracker = DCFMOSSETracker(dev = device, features = TRACKER)\n",
    "    squared = False"
   ]
  },
  {
   "cell_type": "code",
   "execution_count": 14,
   "metadata": {},
   "outputs": [],
   "source": [
    "results = {}"
   ]
  },
  {
   "cell_type": "code",
   "execution_count": 15,
   "metadata": {},
   "outputs": [
    {
     "name": "stdout",
     "output_type": "stream",
     "text": [
      "----------------------------Evaluating video named Basketball----------------------------------\n",
      "mIou: 0.2567502280605729\n",
      "----------------------------Evaluating video named Biker----------------------------------\n",
      "mIou: 0.234573727863974\n",
      "----------------------------Evaluating video named BlurBody----------------------------------\n",
      "mIou: 0.15907903841074642\n",
      "----------------------------Evaluating video named BlurCar3----------------------------------\n",
      "mIou: 0.3712192746692144\n",
      "----------------------------Evaluating video named Bolt----------------------------------\n",
      "mIou: 0.49391794604909356\n",
      "----------------------------Evaluating video named Box----------------------------------\n",
      "mIou: 0.27778141831294095\n",
      "----------------------------Evaluating video named CarScale----------------------------------\n",
      "mIou: 0.29732700039251897\n",
      "----------------------------Evaluating video named Coke----------------------------------\n",
      "mIou: 0.1755226718407867\n",
      "----------------------------Evaluating video named Coupon----------------------------------\n",
      "mIou: 0.7240575065812832\n",
      "----------------------------Evaluating video named Crossing----------------------------------\n",
      "mIou: 0.597937630318619\n",
      "----------------------------Evaluating video named Crowds----------------------------------\n",
      "mIou: 0.06864096346469925\n",
      "----------------------------Evaluating video named DragonBaby----------------------------------\n",
      "mIou: 0.055391311909792705\n",
      "----------------------------Evaluating video named FaceOcc1----------------------------------\n",
      "mIou: 0.8279251870724301\n",
      "----------------------------Evaluating video named Human7----------------------------------\n",
      "mIou: 0.18894340494340495\n",
      "----------------------------Evaluating video named Human9----------------------------------\n",
      "mIou: 0.3002178630513718\n",
      "----------------------------Evaluating video named Ironman----------------------------------\n",
      "mIou: 0.11590429338198396\n",
      "----------------------------Evaluating video named Jogging----------------------------------\n",
      "mIou: 0.1915809746801406\n",
      "----------------------------Evaluating video named KiteSurf----------------------------------\n",
      "mIou: 0.3372236692713551\n",
      "----------------------------Evaluating video named Liquor----------------------------------\n",
      "mIou: 0.3549405378815356\n",
      "----------------------------Evaluating video named Man----------------------------------\n",
      "mIou: 0.8928293007894998\n",
      "----------------------------Evaluating video named MotorRolling----------------------------------\n",
      "mIou: 0.11219476584040855\n",
      "----------------------------Evaluating video named Shaking----------------------------------\n",
      "mIou: 0.009590622558616915\n",
      "----------------------------Evaluating video named Singer2----------------------------------\n",
      "mIou: 0.596294627231122\n",
      "----------------------------Evaluating video named Soccer----------------------------------\n",
      "mIou: 0.08067529322903412\n",
      "----------------------------Evaluating video named Subway----------------------------------\n",
      "mIou: 0.19400040229284676\n",
      "----------------------------Evaluating video named Surfer----------------------------------\n",
      "mIou: 0.16232836753385327\n",
      "----------------------------Evaluating video named Tiger1----------------------------------\n",
      "mIou: 0.4377733994194145\n",
      "----------------------------Evaluating video named Trans----------------------------------\n",
      "mIou: 0.3942273870851964\n",
      "----------------------------Evaluating video named Walking2----------------------------------\n",
      "mIou: 0.2998022312498027\n",
      "----------------------------Evaluating video named Walking----------------------------------\n",
      "mIou: 0.1486229028044943\n"
     ]
    }
   ],
   "source": [
    "for idx, seq in enumerate(dataset):\n",
    "    print(f\"----------------------------Evaluating video named {seq.sequence_name}----------------------------------\")\n",
    "    bboxes = []\n",
    "    for frame_idx, frame in enumerate(seq):\n",
    "        image_color = frame['image']\n",
    "        if TRACKER == \"mosse\":\n",
    "            image = np.sum(image_color, 2) / 3 # grayscale\n",
    "        else:\n",
    "            image = np.transpose(np.float64(image_color), (2, 0, 1))\n",
    "        if frame_idx == 0:\n",
    "            bbox = copy(frame['bounding_box'])\n",
    "            aaaa = bbox\n",
    "            if bbox.width % 2 == 0:\n",
    "                bbox.width += 1\n",
    "            if bbox.height % 2 == 0:\n",
    "                bbox.height += 1\n",
    "            roi = get_roi(bbox, squared = squared) # get roi slightly bigger that bbox\n",
    "            tracker.start(image, bbox, roi) # first frame approach\n",
    "        else:\n",
    "            tracker.detect(image)\n",
    "            tracker.update()\n",
    "        bboxes.append(copy(tracker.bbox))\n",
    "    ious = dataset.calculate_per_frame_iou(idx, bboxes)\n",
    "    print(\"mIou:\", np.mean(ious))\n",
    "    results[idx] = np.mean(ious)"
   ]
  },
  {
   "cell_type": "code",
   "execution_count": 16,
   "metadata": {},
   "outputs": [],
   "source": [
    "result_file = f\"../results/mIoU_results_mosse.json\""
   ]
  },
  {
   "cell_type": "code",
   "execution_count": 17,
   "metadata": {},
   "outputs": [],
   "source": [
    "with open(result_file, 'w') as fp:\n",
    "    json.dump(results, fp)"
   ]
  },
  {
   "cell_type": "markdown",
   "metadata": {},
   "source": [
    "# 2) Load results"
   ]
  },
  {
   "cell_type": "code",
   "execution_count": 18,
   "metadata": {},
   "outputs": [],
   "source": [
    "with open(result_file) as fp:\n",
    "    data = json.load(fp)"
   ]
  },
  {
   "cell_type": "code",
   "execution_count": 19,
   "metadata": {},
   "outputs": [],
   "source": [
    "mIoU = 0"
   ]
  },
  {
   "cell_type": "code",
   "execution_count": 20,
   "metadata": {},
   "outputs": [],
   "source": [
    "for k,v in data.items():\n",
    "    mIoU += v"
   ]
  },
  {
   "cell_type": "code",
   "execution_count": 21,
   "metadata": {},
   "outputs": [
    {
     "data": {
      "text/plain": [
       "'29'"
      ]
     },
     "execution_count": 21,
     "metadata": {},
     "output_type": "execute_result"
    }
   ],
   "source": [
    "k "
   ]
  },
  {
   "cell_type": "code",
   "execution_count": 22,
   "metadata": {},
   "outputs": [
    {
     "data": {
      "text/plain": [
       "0.3119091316063585"
      ]
     },
     "execution_count": 22,
     "metadata": {},
     "output_type": "execute_result"
    }
   ],
   "source": [
    "mIoU / 30"
   ]
  },
  {
   "cell_type": "code",
   "execution_count": null,
   "metadata": {},
   "outputs": [],
   "source": []
  },
  {
   "cell_type": "code",
   "execution_count": null,
   "metadata": {},
   "outputs": [],
   "source": []
  }
 ],
 "metadata": {
  "kernelspec": {
   "display_name": "Python 3",
   "language": "python",
   "name": "python3"
  },
  "language_info": {
   "codemirror_mode": {
    "name": "ipython",
    "version": 3
   },
   "file_extension": ".py",
   "mimetype": "text/x-python",
   "name": "python",
   "nbconvert_exporter": "python",
   "pygments_lexer": "ipython3",
   "version": "3.6.12"
  }
 },
 "nbformat": 4,
 "nbformat_minor": 4
}
