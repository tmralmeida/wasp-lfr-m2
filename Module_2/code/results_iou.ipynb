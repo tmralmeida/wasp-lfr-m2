{
 "cells": [
  {
   "cell_type": "code",
   "execution_count": 1,
   "metadata": {},
   "outputs": [],
   "source": [
    "import os\n",
    "import cv2\n",
    "import numpy as np\n",
    "from cvl.dataset import OnlineTrackingBenchmark\n",
    "from cvl.trackers import MOSSETracker, DCFMOSSETracker\n",
    "from cvl.lib import get_roi, resume_performance, get_arguments\n",
    "import matplotlib.pyplot as plt\n",
    "from copy import copy, deepcopy\n",
    "import torch\n",
    "from tqdm.notebook import tqdm as tqdm\n",
    "import json"
   ]
  },
  {
   "cell_type": "code",
   "execution_count": 2,
   "metadata": {},
   "outputs": [],
   "source": [
    "ds_path = \"Mini-OTB/\""
   ]
  },
  {
   "cell_type": "code",
   "execution_count": 3,
   "metadata": {},
   "outputs": [],
   "source": [
    "seq_list = os.listdir(ds_path)"
   ]
  },
  {
   "cell_type": "code",
   "execution_count": 4,
   "metadata": {},
   "outputs": [],
   "source": [
    "dataset = OnlineTrackingBenchmark(ds_path)"
   ]
  },
  {
   "cell_type": "markdown",
   "metadata": {},
   "source": [
    "# 1) Choose the tracker"
   ]
  },
  {
   "cell_type": "code",
   "execution_count": 5,
   "metadata": {},
   "outputs": [],
   "source": [
    "TRACKER = \"vgg16\" # [\"mosse\", \"resnet\", \"mobilenet\", \"alexnet\", \"vgg16\", \"hand_f\"]"
   ]
  },
  {
   "cell_type": "code",
   "execution_count": 6,
   "metadata": {},
   "outputs": [],
   "source": [
    "device = \"cuda:0\" if torch.cuda.is_available() else \"cpu\""
   ]
  },
  {
   "cell_type": "code",
   "execution_count": 7,
   "metadata": {},
   "outputs": [],
   "source": [
    "if TRACKER == \"mosse\":\n",
    "    tracker = MOSSETracker()\n",
    "    squared = False\n",
    "elif TRACKER in [\"resnet\", \"mobilenet\", \"alexnet\", \"vgg16\", \"hand_f\"]:\n",
    "    tracker = DCFMOSSETracker(dev = device, features = TRACKER)\n",
    "    squared = True"
   ]
  },
  {
   "cell_type": "code",
   "execution_count": 8,
   "metadata": {},
   "outputs": [],
   "source": [
    "results = {}"
   ]
  },
  {
   "cell_type": "code",
   "execution_count": 9,
   "metadata": {},
   "outputs": [
    {
     "name": "stdout",
     "output_type": "stream",
     "text": [
      "----------------------------Evaluating video named Basketball----------------------------------\n",
      "mIou: 0.5265326278659611\n",
      "----------------------------Evaluating video named Biker----------------------------------\n",
      "mIou: 0.2698082691521694\n",
      "----------------------------Evaluating video named BlurBody----------------------------------\n",
      "mIou: 0.022392061414957247\n",
      "----------------------------Evaluating video named BlurCar3----------------------------------\n",
      "mIou: 0.5754611933451492\n",
      "----------------------------Evaluating video named Bolt----------------------------------\n",
      "mIou: 0.013857229594934512\n",
      "----------------------------Evaluating video named Box----------------------------------\n",
      "mIou: 0.4152915732310837\n",
      "----------------------------Evaluating video named CarScale----------------------------------\n",
      "mIou: 0.28491747781521654\n",
      "----------------------------Evaluating video named Coke----------------------------------\n",
      "mIou: 0.7568752540923994\n",
      "----------------------------Evaluating video named Coupon----------------------------------\n",
      "mIou: 0.3614156857284261\n",
      "----------------------------Evaluating video named Crossing----------------------------------\n",
      "mIou: 0.7041739376064283\n",
      "----------------------------Evaluating video named Crowds----------------------------------\n",
      "mIou: 0.7856133807990056\n",
      "----------------------------Evaluating video named DragonBaby----------------------------------\n",
      "mIou: 0.4493862328110209\n",
      "----------------------------Evaluating video named FaceOcc1----------------------------------\n",
      "mIou: 0.7692330155708412\n",
      "----------------------------Evaluating video named Human7----------------------------------\n",
      "mIou: 0.12874936474936477\n",
      "----------------------------Evaluating video named Human9----------------------------------\n",
      "mIou: 0.291761167092796\n",
      "----------------------------Evaluating video named Ironman----------------------------------\n",
      "mIou: 0.38884767701484374\n",
      "----------------------------Evaluating video named Jogging----------------------------------\n",
      "mIou: 0.6759340068128098\n",
      "----------------------------Evaluating video named KiteSurf----------------------------------\n",
      "mIou: 0.6942329526480998\n",
      "----------------------------Evaluating video named Liquor----------------------------------\n",
      "mIou: 0.36056358073992856\n",
      "----------------------------Evaluating video named Man----------------------------------\n",
      "mIou: 0.8706325920256268\n",
      "----------------------------Evaluating video named MotorRolling----------------------------------\n",
      "mIou: 0.4701013761056647\n",
      "----------------------------Evaluating video named Shaking----------------------------------\n",
      "mIou: 0.6413279502361166\n",
      "----------------------------Evaluating video named Singer2----------------------------------\n",
      "mIou: 0.0354690627894779\n",
      "----------------------------Evaluating video named Soccer----------------------------------\n",
      "mIou: 0.4325725336108906\n",
      "----------------------------Evaluating video named Subway----------------------------------\n",
      "mIou: 0.011316526610644258\n",
      "----------------------------Evaluating video named Surfer----------------------------------\n",
      "mIou: 0.3447264841296301\n",
      "----------------------------Evaluating video named Tiger1----------------------------------\n",
      "mIou: 0.3938500503034543\n",
      "----------------------------Evaluating video named Trans----------------------------------\n",
      "mIou: 0.42453173247101955\n",
      "----------------------------Evaluating video named Walking2----------------------------------\n",
      "mIou: 0.4652453146602803\n",
      "----------------------------Evaluating video named Walking----------------------------------\n",
      "mIou: 0.5270422728043349\n"
     ]
    }
   ],
   "source": [
    "for idx, seq in enumerate(dataset):\n",
    "    print(f\"----------------------------Evaluating video named {seq.sequence_name}----------------------------------\")\n",
    "    bboxes = []\n",
    "    for frame_idx, frame in enumerate(seq):\n",
    "        image_color = frame['image']\n",
    "        if TRACKER == \"mosse\":\n",
    "            image = np.sum(image_color, 2) / 3 # grayscale\n",
    "        else:\n",
    "            image = np.transpose(np.float64(image_color), (2, 0, 1))\n",
    "        if frame_idx == 0:\n",
    "            bbox = copy(frame['bounding_box'])\n",
    "            aaaa = bbox\n",
    "            if bbox.width % 2 == 0:\n",
    "                bbox.width += 1\n",
    "            if bbox.height % 2 == 0:\n",
    "                bbox.height += 1\n",
    "            roi = get_roi(bbox, squared = squared) # get roi slightly bigger that bbox\n",
    "            tracker.start(image, bbox, roi) # first frame approach\n",
    "        else:\n",
    "            tracker.detect(image)\n",
    "            tracker.update()\n",
    "        bboxes.append(copy(tracker.bbox))\n",
    "    ious = dataset.calculate_per_frame_iou(idx, bboxes)\n",
    "    print(\"mIou:\", np.mean(ious))\n",
    "    results[idx] = np.mean(ious)"
   ]
  },
  {
   "cell_type": "code",
   "execution_count": 10,
   "metadata": {},
   "outputs": [],
   "source": [
    "result_file = f\"../results/ious/layers/vgg16/vgg16_layer10.json\""
   ]
  },
  {
   "cell_type": "code",
   "execution_count": 11,
   "metadata": {},
   "outputs": [],
   "source": [
    "with open(result_file, 'w') as fp:\n",
    "    json.dump(results, fp)"
   ]
  },
  {
   "cell_type": "markdown",
   "metadata": {},
   "source": [
    "# 2) Load results"
   ]
  },
  {
   "cell_type": "code",
   "execution_count": 12,
   "metadata": {},
   "outputs": [],
   "source": [
    "with open(result_file) as fp:\n",
    "    data = json.load(fp)"
   ]
  },
  {
   "cell_type": "code",
   "execution_count": 13,
   "metadata": {},
   "outputs": [],
   "source": [
    "mIoU = 0"
   ]
  },
  {
   "cell_type": "code",
   "execution_count": 14,
   "metadata": {},
   "outputs": [],
   "source": [
    "for k,v in data.items():\n",
    "    mIoU += v"
   ]
  },
  {
   "cell_type": "code",
   "execution_count": 15,
   "metadata": {},
   "outputs": [
    {
     "data": {
      "text/plain": [
       "'29'"
      ]
     },
     "execution_count": 15,
     "metadata": {},
     "output_type": "execute_result"
    }
   ],
   "source": [
    "k "
   ]
  },
  {
   "cell_type": "code",
   "execution_count": 16,
   "metadata": {},
   "outputs": [
    {
     "data": {
      "text/plain": [
       "0.4363954194610858"
      ]
     },
     "execution_count": 16,
     "metadata": {},
     "output_type": "execute_result"
    }
   ],
   "source": [
    "mIoU / 30"
   ]
  },
  {
   "cell_type": "code",
   "execution_count": null,
   "metadata": {},
   "outputs": [],
   "source": []
  },
  {
   "cell_type": "code",
   "execution_count": null,
   "metadata": {},
   "outputs": [],
   "source": []
  },
  {
   "cell_type": "code",
   "execution_count": null,
   "metadata": {},
   "outputs": [],
   "source": []
  },
  {
   "cell_type": "code",
   "execution_count": null,
   "metadata": {},
   "outputs": [],
   "source": []
  }
 ],
 "metadata": {
  "kernelspec": {
   "display_name": "Python 3",
   "language": "python",
   "name": "python3"
  },
  "language_info": {
   "codemirror_mode": {
    "name": "ipython",
    "version": 3
   },
   "file_extension": ".py",
   "mimetype": "text/x-python",
   "name": "python",
   "nbconvert_exporter": "python",
   "pygments_lexer": "ipython3",
   "version": "3.6.12"
  }
 },
 "nbformat": 4,
 "nbformat_minor": 4
}
