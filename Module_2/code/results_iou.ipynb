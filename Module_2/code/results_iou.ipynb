{
 "cells": [
  {
   "cell_type": "code",
   "execution_count": 1,
   "metadata": {},
   "outputs": [],
   "source": [
    "import os\n",
    "import cv2\n",
    "import numpy as np\n",
    "from cvl.dataset import OnlineTrackingBenchmark\n",
    "from cvl.trackers import MOSSETracker, DCFMOSSETracker\n",
    "from cvl.lib import get_roi, resume_performance, get_arguments\n",
    "import matplotlib.pyplot as plt\n",
    "from copy import copy, deepcopy\n",
    "import torch\n",
    "from tqdm.notebook import tqdm as tqdm\n",
    "import json"
   ]
  },
  {
   "cell_type": "code",
   "execution_count": 2,
   "metadata": {},
   "outputs": [],
   "source": [
    "ds_path = \"Mini-OTB/\""
   ]
  },
  {
   "cell_type": "code",
   "execution_count": 3,
   "metadata": {},
   "outputs": [],
   "source": [
    "seq_list = os.listdir(ds_path)"
   ]
  },
  {
   "cell_type": "code",
   "execution_count": 4,
   "metadata": {},
   "outputs": [],
   "source": [
    "dataset = OnlineTrackingBenchmark(ds_path)"
   ]
  },
  {
   "cell_type": "markdown",
   "metadata": {},
   "source": [
    "# 1) Choose the tracker"
   ]
  },
  {
   "cell_type": "code",
   "execution_count": 5,
   "metadata": {},
   "outputs": [],
   "source": [
    "TRACKER = \"hog\" # [\"mosse\", \"resnet\", \"mobilenet\", \"alexnet\", \"vgg16\", \"hog\"]"
   ]
  },
  {
   "cell_type": "code",
   "execution_count": 6,
   "metadata": {},
   "outputs": [],
   "source": [
    "device = \"cuda:0\" if torch.cuda.is_available() else \"cpu\""
   ]
  },
  {
   "cell_type": "code",
   "execution_count": 7,
   "metadata": {},
   "outputs": [],
   "source": [
    "if TRACKER == \"mosse\":\n",
    "    tracker = MOSSETracker()\n",
    "    squared = False\n",
    "    bigger = True\n",
    "elif TRACKER in [\"resnet\", \"mobilenet\", \"alexnet\", \"vgg16\", \"hog\"]:\n",
    "    tracker = DCFMOSSETracker(dev = device, features = TRACKER)\n",
    "    squared = False\n",
    "    bigger = True"
   ]
  },
  {
   "cell_type": "code",
   "execution_count": 8,
   "metadata": {},
   "outputs": [],
   "source": [
    "results = {}"
   ]
  },
  {
   "cell_type": "code",
   "execution_count": 9,
   "metadata": {},
   "outputs": [
    {
     "name": "stdout",
     "output_type": "stream",
     "text": [
      "----------------------------Evaluating video named Basketball----------------------------------\n",
      "mIoU: 0.1402644286322447\n",
      "----------------------------Evaluating video named Biker----------------------------------\n",
      "mIoU: 0.257459211129827\n",
      "----------------------------Evaluating video named BlurBody----------------------------------\n",
      "mIoU: 0.0940761227537807\n",
      "----------------------------Evaluating video named BlurCar3----------------------------------\n",
      "mIoU: 0.30857555767479666\n",
      "----------------------------Evaluating video named Bolt----------------------------------\n",
      "mIoU: 0.16929482175383814\n",
      "----------------------------Evaluating video named Box----------------------------------\n",
      "mIoU: 0.05739060600093931\n",
      "----------------------------Evaluating video named CarScale----------------------------------\n",
      "mIoU: 0.24172134895715822\n",
      "----------------------------Evaluating video named Coke----------------------------------\n",
      "mIoU: 0.08468898568718565\n",
      "----------------------------Evaluating video named Coupon----------------------------------\n",
      "mIoU: 0.3186197118401612\n",
      "----------------------------Evaluating video named Crossing----------------------------------\n",
      "mIoU: 0.7357953276344449\n",
      "----------------------------Evaluating video named Crowds----------------------------------\n",
      "mIoU: 0.08940596662170695\n",
      "----------------------------Evaluating video named DragonBaby----------------------------------\n"
     ]
    },
    {
     "name": "stderr",
     "output_type": "stream",
     "text": [
      "/home/tmr/Documents/PhD/WASP-courses/WASP/1_Learning_Feat_Rep/code-mod2/wasp-lfr-m2/Module_2/code/cvl/lib.py:39: RuntimeWarning: divide by zero encountered in double_scalars\n",
      "  c = 255 / np.log(1 + np.max(img_cropped))\n",
      "/home/tmr/Documents/PhD/WASP-courses/WASP/1_Learning_Feat_Rep/code-mod2/wasp-lfr-m2/Module_2/code/cvl/lib.py:40: RuntimeWarning: invalid value encountered in multiply\n",
      "  log_image = c * (np.log(img_cropped + 1))\n"
     ]
    },
    {
     "name": "stdout",
     "output_type": "stream",
     "text": [
      "mIoU: 0.058437846506920826\n",
      "----------------------------Evaluating video named FaceOcc1----------------------------------\n",
      "mIoU: 0.8478119481424137\n",
      "----------------------------Evaluating video named Human7----------------------------------\n",
      "mIoU: 0.14379025179025176\n",
      "----------------------------Evaluating video named Human9----------------------------------\n",
      "mIoU: 0.24096942612208064\n",
      "----------------------------Evaluating video named Ironman----------------------------------\n",
      "mIoU: 0.08930551606948438\n",
      "----------------------------Evaluating video named Jogging----------------------------------\n",
      "mIoU: 0.17202546883335343\n",
      "----------------------------Evaluating video named KiteSurf----------------------------------\n",
      "mIoU: 0.3259867761971549\n",
      "----------------------------Evaluating video named Liquor----------------------------------\n",
      "mIoU: 0.3162532922565212\n",
      "----------------------------Evaluating video named Man----------------------------------\n",
      "mIoU: 0.8941404090657822\n",
      "----------------------------Evaluating video named MotorRolling----------------------------------\n",
      "mIoU: 0.13296926432678963\n",
      "----------------------------Evaluating video named Shaking----------------------------------\n",
      "mIoU: 0.009466003295768322\n",
      "----------------------------Evaluating video named Singer2----------------------------------\n",
      "mIoU: 0.16361222328448757\n",
      "----------------------------Evaluating video named Soccer----------------------------------\n",
      "mIoU: 0.09292667166713205\n",
      "----------------------------Evaluating video named Subway----------------------------------\n",
      "mIoU: 0.787485651688132\n",
      "----------------------------Evaluating video named Surfer----------------------------------\n",
      "mIoU: 0.3740994717289434\n",
      "----------------------------Evaluating video named Tiger1----------------------------------\n",
      "mIoU: 0.04455896380123698\n",
      "----------------------------Evaluating video named Trans----------------------------------\n",
      "mIoU: 0.21374292972782896\n",
      "----------------------------Evaluating video named Walking2----------------------------------\n",
      "mIoU: 0.2959424920035568\n",
      "----------------------------Evaluating video named Walking----------------------------------\n",
      "mIoU: 0.28264327615156654\n"
     ]
    }
   ],
   "source": [
    "for idx, seq in enumerate(dataset):\n",
    "    print(f\"----------------------------Evaluating video named {seq.sequence_name}----------------------------------\")\n",
    "    bboxes = []\n",
    "    for frame_idx, frame in enumerate(seq):\n",
    "        image_color = frame['image']\n",
    "        if TRACKER == \"mosse\":\n",
    "            image = np.sum(image_color, 2) / 3 # grayscale\n",
    "        else:\n",
    "            image = np.transpose(np.float64(image_color), (2, 0, 1))\n",
    "        if frame_idx == 0:\n",
    "            bbox = copy(frame['bounding_box'])\n",
    "            aaaa = bbox\n",
    "            if bbox.width % 2 == 0:\n",
    "                bbox.width += 1\n",
    "            if bbox.height % 2 == 0:\n",
    "                bbox.height += 1\n",
    "            roi = get_roi(bbox, squared = squared, bigger = bigger) # get roi slightly bigger that bbox\n",
    "            tracker.start(image, bbox, roi) # first frame approach\n",
    "        else:\n",
    "            tracker.detect(image)\n",
    "            tracker.update()\n",
    "        bboxes.append(copy(tracker.bbox))\n",
    "    ious = dataset.calculate_per_frame_iou(idx, bboxes)\n",
    "    print(\"mIoU:\", np.mean(ious))\n",
    "    results[idx] = np.mean(ious)"
   ]
  },
  {
   "cell_type": "code",
   "execution_count": 10,
   "metadata": {},
   "outputs": [],
   "source": [
    "result_file = f\"../results/ious/experiments/1/1st_layer_bigger/hog.json\""
   ]
  },
  {
   "cell_type": "code",
   "execution_count": 11,
   "metadata": {},
   "outputs": [],
   "source": [
    "with open(result_file, 'w') as fp:\n",
    "    json.dump(results, fp)"
   ]
  },
  {
   "cell_type": "markdown",
   "metadata": {},
   "source": [
    "# 2) Load results"
   ]
  },
  {
   "cell_type": "code",
   "execution_count": 12,
   "metadata": {},
   "outputs": [],
   "source": [
    "with open(result_file) as fp:\n",
    "    data = json.load(fp)"
   ]
  },
  {
   "cell_type": "code",
   "execution_count": 13,
   "metadata": {},
   "outputs": [],
   "source": [
    "mIoU = 0"
   ]
  },
  {
   "cell_type": "code",
   "execution_count": 14,
   "metadata": {},
   "outputs": [],
   "source": [
    "for k,v in data.items():\n",
    "    mIoU += v"
   ]
  },
  {
   "cell_type": "code",
   "execution_count": 15,
   "metadata": {},
   "outputs": [
    {
     "data": {
      "text/plain": [
       "'29'"
      ]
     },
     "execution_count": 15,
     "metadata": {},
     "output_type": "execute_result"
    }
   ],
   "source": [
    "k "
   ]
  },
  {
   "cell_type": "code",
   "execution_count": 16,
   "metadata": {},
   "outputs": [
    {
     "data": {
      "text/plain": [
       "0.26611533237818297"
      ]
     },
     "execution_count": 16,
     "metadata": {},
     "output_type": "execute_result"
    }
   ],
   "source": [
    "mIoU / 30"
   ]
  },
  {
   "cell_type": "code",
   "execution_count": null,
   "metadata": {},
   "outputs": [],
   "source": []
  },
  {
   "cell_type": "code",
   "execution_count": null,
   "metadata": {},
   "outputs": [],
   "source": []
  },
  {
   "cell_type": "code",
   "execution_count": null,
   "metadata": {},
   "outputs": [],
   "source": []
  }
 ],
 "metadata": {
  "kernelspec": {
   "display_name": "Python 3",
   "language": "python",
   "name": "python3"
  },
  "language_info": {
   "codemirror_mode": {
    "name": "ipython",
    "version": 3
   },
   "file_extension": ".py",
   "mimetype": "text/x-python",
   "name": "python",
   "nbconvert_exporter": "python",
   "pygments_lexer": "ipython3",
   "version": "3.6.12"
  }
 },
 "nbformat": 4,
 "nbformat_minor": 4
}
