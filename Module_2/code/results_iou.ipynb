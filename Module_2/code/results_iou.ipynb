{
 "cells": [
  {
   "cell_type": "code",
   "execution_count": 1,
   "metadata": {},
   "outputs": [],
   "source": [
    "import os\n",
    "import cv2\n",
    "import numpy as np\n",
    "from cvl.dataset import OnlineTrackingBenchmark\n",
    "from cvl.trackers import MOSSETracker, DCFMOSSETracker\n",
    "from cvl.lib import get_roi, resume_performance, get_arguments\n",
    "import matplotlib.pyplot as plt\n",
    "from copy import copy, deepcopy\n",
    "import torch\n",
    "from tqdm.notebook import tqdm as tqdm\n",
    "import json"
   ]
  },
  {
   "cell_type": "code",
   "execution_count": 2,
   "metadata": {},
   "outputs": [],
   "source": [
    "ds_path = \"Mini-OTB/\""
   ]
  },
  {
   "cell_type": "code",
   "execution_count": 3,
   "metadata": {},
   "outputs": [],
   "source": [
    "seq_list = os.listdir(ds_path)"
   ]
  },
  {
   "cell_type": "code",
   "execution_count": 4,
   "metadata": {},
   "outputs": [],
   "source": [
    "dataset = OnlineTrackingBenchmark(ds_path)"
   ]
  },
  {
   "cell_type": "markdown",
   "metadata": {},
   "source": [
    "# 1) Choose the tracker"
   ]
  },
  {
   "cell_type": "code",
   "execution_count": 5,
   "metadata": {},
   "outputs": [],
   "source": [
    "TRACKER = \"mobilenet\" # [\"mosse\", \"resnet\", \"mobilenet\", \"alexnet\", \"vgg16\", \"hand_f\"]"
   ]
  },
  {
   "cell_type": "code",
   "execution_count": 6,
   "metadata": {},
   "outputs": [],
   "source": [
    "device = \"cuda:0\" if torch.cuda.is_available() else \"cpu\""
   ]
  },
  {
   "cell_type": "code",
   "execution_count": 7,
   "metadata": {},
   "outputs": [],
   "source": [
    "if TRACKER == \"mosse\":\n",
    "    tracker = MOSSETracker()\n",
    "    squared = False\n",
    "elif TRACKER in [\"resnet\", \"mobilenet\", \"alexnet\", \"vgg16\", \"hand_f\"]:\n",
    "    tracker = DCFMOSSETracker(dev = device, features = TRACKER)\n",
    "    squared = True"
   ]
  },
  {
   "cell_type": "code",
   "execution_count": 8,
   "metadata": {},
   "outputs": [],
   "source": [
    "results = {}"
   ]
  },
  {
   "cell_type": "code",
   "execution_count": 9,
   "metadata": {},
   "outputs": [
    {
     "name": "stdout",
     "output_type": "stream",
     "text": [
      "----------------------------Evaluating video named Basketball----------------------------------\n",
      "mIou: 0.005521620142309797\n",
      "----------------------------Evaluating video named Biker----------------------------------\n",
      "mIou: 0.0933969282866821\n",
      "----------------------------Evaluating video named BlurBody----------------------------------\n",
      "mIou: 0.04733161822040295\n",
      "----------------------------Evaluating video named BlurCar3----------------------------------\n",
      "mIou: 0.011330748020607937\n",
      "----------------------------Evaluating video named Bolt----------------------------------\n",
      "mIou: 0.009908925318761384\n",
      "----------------------------Evaluating video named Box----------------------------------\n",
      "mIou: 0.009122561358786495\n",
      "----------------------------Evaluating video named CarScale----------------------------------\n",
      "mIou: 0.014082314469911369\n",
      "----------------------------Evaluating video named Coke----------------------------------\n",
      "mIou: 0.0272316639523316\n",
      "----------------------------Evaluating video named Coupon----------------------------------\n",
      "mIou: 0.13653864586215564\n",
      "----------------------------Evaluating video named Crossing----------------------------------\n",
      "mIou: 0.03822584824550162\n",
      "----------------------------Evaluating video named Crowds----------------------------------\n",
      "mIou: 0.015583579629070022\n",
      "----------------------------Evaluating video named DragonBaby----------------------------------\n",
      "mIou: 0.060523035201788526\n",
      "----------------------------Evaluating video named FaceOcc1----------------------------------\n",
      "mIou: 0.1128407264398476\n",
      "----------------------------Evaluating video named Human7----------------------------------\n",
      "mIou: 0.00995795795795796\n",
      "----------------------------Evaluating video named Human9----------------------------------\n",
      "mIou: 0.02360913563801216\n",
      "----------------------------Evaluating video named Ironman----------------------------------\n",
      "mIou: 0.024700304979315763\n",
      "----------------------------Evaluating video named Jogging----------------------------------\n",
      "mIou: 0.013797947116087618\n",
      "----------------------------Evaluating video named KiteSurf----------------------------------\n",
      "mIou: 0.1121017832097776\n",
      "----------------------------Evaluating video named Liquor----------------------------------\n",
      "mIou: 0.09809392552269043\n",
      "----------------------------Evaluating video named Man----------------------------------\n",
      "mIou: 0.11239387110033877\n",
      "----------------------------Evaluating video named MotorRolling----------------------------------\n",
      "mIou: 0.05244251719938722\n",
      "----------------------------Evaluating video named Shaking----------------------------------\n",
      "mIou: 0.020850392853973866\n",
      "----------------------------Evaluating video named Singer2----------------------------------\n",
      "mIou: 0.017556493157297612\n",
      "----------------------------Evaluating video named Soccer----------------------------------\n",
      "mIou: 0.022268365061660557\n",
      "----------------------------Evaluating video named Subway----------------------------------\n",
      "mIou: 0.012596196373286158\n",
      "----------------------------Evaluating video named Surfer----------------------------------\n",
      "mIou: 0.009827779716771392\n",
      "----------------------------Evaluating video named Tiger1----------------------------------\n",
      "mIou: 0.008112459159318582\n",
      "----------------------------Evaluating video named Trans----------------------------------\n",
      "mIou: 0.15996862291083422\n",
      "----------------------------Evaluating video named Walking2----------------------------------\n",
      "mIou: 0.006578962131837307\n",
      "----------------------------Evaluating video named Walking----------------------------------\n",
      "mIou: 0.10683932668935697\n"
     ]
    }
   ],
   "source": [
    "for idx, seq in enumerate(dataset):\n",
    "    print(f\"----------------------------Evaluating video named {seq.sequence_name}----------------------------------\")\n",
    "    bboxes = []\n",
    "    for frame_idx, frame in enumerate(seq):\n",
    "        image_color = frame['image']\n",
    "        if TRACKER == \"mosse\":\n",
    "            image = np.sum(image_color, 2) / 3 # grayscale\n",
    "        else:\n",
    "            image = np.transpose(np.float64(image_color), (2, 0, 1))\n",
    "        if frame_idx == 0:\n",
    "            bbox = copy(frame['bounding_box'])\n",
    "            aaaa = bbox\n",
    "            if bbox.width % 2 == 0:\n",
    "                bbox.width += 1\n",
    "            if bbox.height % 2 == 0:\n",
    "                bbox.height += 1\n",
    "            roi = get_roi(bbox, squared = squared) # get roi slightly bigger that bbox\n",
    "            tracker.start(image, bbox, roi) # first frame approach\n",
    "        else:\n",
    "            tracker.detect(image)\n",
    "            tracker.update()\n",
    "        bboxes.append(copy(tracker.bbox))\n",
    "    ious = dataset.calculate_per_frame_iou(idx, bboxes)\n",
    "    print(\"mIou:\", np.mean(ious))\n",
    "    results[idx] = np.mean(ious)"
   ]
  },
  {
   "cell_type": "code",
   "execution_count": 10,
   "metadata": {},
   "outputs": [],
   "source": [
    "result_file = f\"../results/ious/experiments/2/best_variation_layers/mobilenet/mobilenet_squared_last_layer.json\""
   ]
  },
  {
   "cell_type": "code",
   "execution_count": 11,
   "metadata": {},
   "outputs": [],
   "source": [
    "with open(result_file, 'w') as fp:\n",
    "    json.dump(results, fp)"
   ]
  },
  {
   "cell_type": "markdown",
   "metadata": {},
   "source": [
    "# 2) Load results"
   ]
  },
  {
   "cell_type": "code",
   "execution_count": 12,
   "metadata": {},
   "outputs": [],
   "source": [
    "with open(result_file) as fp:\n",
    "    data = json.load(fp)"
   ]
  },
  {
   "cell_type": "code",
   "execution_count": 13,
   "metadata": {},
   "outputs": [],
   "source": [
    "mIoU = 0"
   ]
  },
  {
   "cell_type": "code",
   "execution_count": 14,
   "metadata": {},
   "outputs": [],
   "source": [
    "for k,v in data.items():\n",
    "    mIoU += v"
   ]
  },
  {
   "cell_type": "code",
   "execution_count": 15,
   "metadata": {},
   "outputs": [
    {
     "data": {
      "text/plain": [
       "'29'"
      ]
     },
     "execution_count": 15,
     "metadata": {},
     "output_type": "execute_result"
    }
   ],
   "source": [
    "k "
   ]
  },
  {
   "cell_type": "code",
   "execution_count": 16,
   "metadata": {},
   "outputs": [
    {
     "data": {
      "text/plain": [
       "0.046444475197535376"
      ]
     },
     "execution_count": 16,
     "metadata": {},
     "output_type": "execute_result"
    }
   ],
   "source": [
    "mIoU / 30"
   ]
  },
  {
   "cell_type": "code",
   "execution_count": null,
   "metadata": {},
   "outputs": [],
   "source": []
  },
  {
   "cell_type": "code",
   "execution_count": null,
   "metadata": {},
   "outputs": [],
   "source": []
  },
  {
   "cell_type": "code",
   "execution_count": null,
   "metadata": {},
   "outputs": [],
   "source": []
  },
  {
   "cell_type": "code",
   "execution_count": null,
   "metadata": {},
   "outputs": [],
   "source": []
  }
 ],
 "metadata": {
  "kernelspec": {
   "display_name": "Python 3",
   "language": "python",
   "name": "python3"
  },
  "language_info": {
   "codemirror_mode": {
    "name": "ipython",
    "version": 3
   },
   "file_extension": ".py",
   "mimetype": "text/x-python",
   "name": "python",
   "nbconvert_exporter": "python",
   "pygments_lexer": "ipython3",
   "version": "3.6.12"
  }
 },
 "nbformat": 4,
 "nbformat_minor": 4
}
