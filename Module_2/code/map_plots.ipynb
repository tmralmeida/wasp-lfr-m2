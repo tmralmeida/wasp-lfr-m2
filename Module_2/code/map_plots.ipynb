{
 "cells": [
  {
   "cell_type": "code",
   "execution_count": 1,
   "metadata": {},
   "outputs": [],
   "source": [
    "import os\n",
    "import cv2\n",
    "import numpy as np\n",
    "from cvl.dataset import OnlineTrackingBenchmark\n",
    "from cvl.trackers import MOSSETracker, DCFMOSSETracker\n",
    "from cvl.lib import get_roi, resume_performance, get_arguments\n",
    "import matplotlib.pyplot as plt\n",
    "from copy import copy, deepcopy\n",
    "import torch\n",
    "from tqdm.notebook import tqdm as tqdm\n",
    "import json"
   ]
  },
  {
   "cell_type": "code",
   "execution_count": 6,
   "metadata": {},
   "outputs": [],
   "source": [
    "import matplotlib\n",
    "matplotlib.use(\"pgf\")\n",
    "matplotlib.rcParams.update({\n",
    "    \"pgf.texsystem\": \"pdflatex\",\n",
    "    'font.family': 'serif',\n",
    "    'font.size': 8,\n",
    "    'text.usetex': True,\n",
    "    'pgf.rcfonts': False,\n",
    "})"
   ]
  },
  {
   "cell_type": "code",
   "execution_count": 7,
   "metadata": {},
   "outputs": [],
   "source": [
    "def get_map(list_ious, threshold = 0.5):\n",
    "    return np.sum((np.array(list_ious)>threshold)) / len(list_ious)"
   ]
  },
  {
   "cell_type": "code",
   "execution_count": 8,
   "metadata": {},
   "outputs": [],
   "source": [
    "rf_mobilenet = f\"../results/map/best_mobilenet.json\"\n",
    "rf_vgg = f\"../results/map/bestvgg16.json\"\n",
    "rf_alexnet = f\"../results/map/best_alexnet_5_layer.json\"\n",
    "rf_mosse = f\"../results/map/best_mosse.json\"\n",
    "# handcrafted\n",
    "trackers = [\"mob\", \"vgg\", \"alex\", \"mosse\"]"
   ]
  },
  {
   "cell_type": "code",
   "execution_count": 9,
   "metadata": {},
   "outputs": [],
   "source": [
    "results = {}"
   ]
  },
  {
   "cell_type": "code",
   "execution_count": 10,
   "metadata": {},
   "outputs": [],
   "source": [
    "paths = [rf_mobilenet, rf_vgg, rf_alexnet, rf_mosse]\n",
    "for idx, p in enumerate(paths):\n",
    "    with open(p, 'r') as fp:\n",
    "        data = json.load(fp)\n",
    "        results[trackers[idx]] = list(data.values())"
   ]
  },
  {
   "cell_type": "code",
   "execution_count": 11,
   "metadata": {},
   "outputs": [],
   "source": [
    "results_ious = {}\n"
   ]
  },
  {
   "cell_type": "code",
   "execution_count": 12,
   "metadata": {},
   "outputs": [],
   "source": [
    "for t in trackers:\n",
    "    ious = []\n",
    "    for seq in results[t]:\n",
    "        ious.extend(seq)\n",
    "    results_ious[t] = ious"
   ]
  },
  {
   "cell_type": "code",
   "execution_count": 13,
   "metadata": {},
   "outputs": [
    {
     "data": {
      "text/plain": [
       "0.31008842443729906"
      ]
     },
     "execution_count": 13,
     "metadata": {},
     "output_type": "execute_result"
    }
   ],
   "source": [
    "get_map(results_ious[\"mosse\"], threshold=0.5)"
   ]
  },
  {
   "cell_type": "code",
   "execution_count": 14,
   "metadata": {},
   "outputs": [],
   "source": [
    "number_points = 10001"
   ]
  },
  {
   "cell_type": "code",
   "execution_count": 15,
   "metadata": {},
   "outputs": [],
   "source": [
    "thresholds = np.linspace(0,1,number_points)"
   ]
  },
  {
   "cell_type": "code",
   "execution_count": 16,
   "metadata": {},
   "outputs": [],
   "source": [
    "curves_plt = {}"
   ]
  },
  {
   "cell_type": "code",
   "execution_count": 17,
   "metadata": {},
   "outputs": [],
   "source": [
    "for tracker in trackers:\n",
    "    y_values = []\n",
    "    for t in thresholds:\n",
    "        y_values.append(get_map(results_ious[tracker],t))\n",
    "    curves_plt[tracker] = y_values"
   ]
  },
  {
   "cell_type": "code",
   "execution_count": 18,
   "metadata": {},
   "outputs": [],
   "source": [
    "fig = plt.figure(figsize=(10,10))\n",
    "for tracker in trackers:\n",
    "    plt.plot(thresholds, curves_plt[tracker]);\n",
    "plt.legend([f\"MobilenetV2[{round(get_map(results_ious['mob'], threshold=0.5),2)}]\", \n",
    "            f\"VGG16[{round(get_map(results_ious['vgg'], threshold=0.5),2)}]\", \n",
    "            f\"AlexNet[{round(get_map(results_ious['alex'], threshold=0.5),2)}]\", \n",
    "            f\"Mosse[{round(get_map(results_ious['mosse'], threshold=0.5),2)}]\"]);\n",
    "plt.xlim([0,1]);\n",
    "plt.ylim([0,1]);\n",
    "plt.xlabel(\"IoU threshold\");\n",
    "plt.ylabel(\"mAP\");\n",
    "fig.set_size_inches(w=6.87634*0.47, h=6.87634*0.5)\n",
    "plt.savefig('map.pgf')"
   ]
  },
  {
   "cell_type": "markdown",
   "metadata": {},
   "source": [
    "text_width_latex = 6.87634in"
   ]
  },
  {
   "cell_type": "code",
   "execution_count": null,
   "metadata": {},
   "outputs": [],
   "source": []
  }
 ],
 "metadata": {
  "kernelspec": {
   "display_name": "Python 3",
   "language": "python",
   "name": "python3"
  },
  "language_info": {
   "codemirror_mode": {
    "name": "ipython",
    "version": 3
   },
   "file_extension": ".py",
   "mimetype": "text/x-python",
   "name": "python",
   "nbconvert_exporter": "python",
   "pygments_lexer": "ipython3",
   "version": "3.6.12"
  }
 },
 "nbformat": 4,
 "nbformat_minor": 4
}
