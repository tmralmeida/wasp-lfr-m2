{
 "cells": [
  {
   "cell_type": "code",
   "execution_count": 1,
   "metadata": {},
   "outputs": [],
   "source": [
    "import os\n",
    "import cv2\n",
    "import numpy as np\n",
    "from cvl.dataset import OnlineTrackingBenchmark\n",
    "from cvl.trackers import MOSSETracker, DCFMOSSETracker\n",
    "from cvl.lib import get_roi, resume_performance, get_arguments\n",
    "import matplotlib.pyplot as plt\n",
    "from copy import copy, deepcopy\n",
    "import torch\n",
    "from tqdm.notebook import tqdm as tqdm\n",
    "import json"
   ]
  },
  {
   "cell_type": "code",
   "execution_count": 2,
   "metadata": {},
   "outputs": [],
   "source": [
    "ds_path = \"Mini-OTB/\""
   ]
  },
  {
   "cell_type": "code",
   "execution_count": 3,
   "metadata": {},
   "outputs": [],
   "source": [
    "seq_list = os.listdir(ds_path)"
   ]
  },
  {
   "cell_type": "code",
   "execution_count": 4,
   "metadata": {},
   "outputs": [],
   "source": [
    "dataset = OnlineTrackingBenchmark(ds_path)"
   ]
  },
  {
   "cell_type": "markdown",
   "metadata": {},
   "source": [
    "# 1) Choose the tracker"
   ]
  },
  {
   "cell_type": "code",
   "execution_count": 5,
   "metadata": {},
   "outputs": [],
   "source": [
    "TRACKER = \"vgg16\" # [\"mosse\", \"resnet\", \"mobilenet\", \"alexnet\", \"vgg16\", \"hand_f\"]"
   ]
  },
  {
   "cell_type": "code",
   "execution_count": 6,
   "metadata": {},
   "outputs": [
    {
     "name": "stderr",
     "output_type": "stream",
     "text": [
      "/home/tmr/miniconda3/envs/torch/lib/python3.6/site-packages/torch/cuda/__init__.py:52: UserWarning: CUDA initialization: CUDA unknown error - this may be due to an incorrectly set up environment, e.g. changing env variable CUDA_VISIBLE_DEVICES after program start. Setting the available devices to be zero. (Triggered internally at  /opt/conda/conda-bld/pytorch_1603729128610/work/c10/cuda/CUDAFunctions.cpp:100.)\n",
      "  return torch._C._cuda_getDeviceCount() > 0\n"
     ]
    }
   ],
   "source": [
    "device = \"cuda:0\" if torch.cuda.is_available() else \"cpu\""
   ]
  },
  {
   "cell_type": "code",
   "execution_count": 7,
   "metadata": {},
   "outputs": [],
   "source": [
    "if TRACKER == \"mosse\":\n",
    "    tracker = MOSSETracker()\n",
    "    squared = False\n",
    "elif TRACKER in [\"resnet\", \"mobilenet\", \"alexnet\", \"vgg16\", \"hand_f\"]:\n",
    "    tracker = DCFMOSSETracker(dev = device, features = TRACKER)\n",
    "    squared = True"
   ]
  },
  {
   "cell_type": "code",
   "execution_count": 8,
   "metadata": {},
   "outputs": [],
   "source": [
    "results = {}"
   ]
  },
  {
   "cell_type": "code",
   "execution_count": 9,
   "metadata": {},
   "outputs": [
    {
     "name": "stdout",
     "output_type": "stream",
     "text": [
      "----------------------------Evaluating video named Basketball----------------------------------\n",
      "----------------------------Evaluating video named Biker----------------------------------\n",
      "----------------------------Evaluating video named BlurBody----------------------------------\n",
      "----------------------------Evaluating video named BlurCar3----------------------------------\n",
      "----------------------------Evaluating video named Bolt----------------------------------\n",
      "----------------------------Evaluating video named Box----------------------------------\n",
      "----------------------------Evaluating video named CarScale----------------------------------\n",
      "----------------------------Evaluating video named Coke----------------------------------\n",
      "----------------------------Evaluating video named Coupon----------------------------------\n",
      "----------------------------Evaluating video named Crossing----------------------------------\n",
      "----------------------------Evaluating video named Crowds----------------------------------\n",
      "----------------------------Evaluating video named DragonBaby----------------------------------\n",
      "----------------------------Evaluating video named FaceOcc1----------------------------------\n",
      "----------------------------Evaluating video named Human7----------------------------------\n",
      "----------------------------Evaluating video named Human9----------------------------------\n",
      "----------------------------Evaluating video named Ironman----------------------------------\n",
      "----------------------------Evaluating video named Jogging----------------------------------\n",
      "----------------------------Evaluating video named KiteSurf----------------------------------\n",
      "----------------------------Evaluating video named Liquor----------------------------------\n",
      "----------------------------Evaluating video named Man----------------------------------\n",
      "----------------------------Evaluating video named MotorRolling----------------------------------\n",
      "----------------------------Evaluating video named Shaking----------------------------------\n",
      "----------------------------Evaluating video named Singer2----------------------------------\n",
      "----------------------------Evaluating video named Soccer----------------------------------\n",
      "----------------------------Evaluating video named Subway----------------------------------\n",
      "----------------------------Evaluating video named Surfer----------------------------------\n",
      "----------------------------Evaluating video named Tiger1----------------------------------\n",
      "----------------------------Evaluating video named Trans----------------------------------\n",
      "----------------------------Evaluating video named Walking2----------------------------------\n",
      "----------------------------Evaluating video named Walking----------------------------------\n"
     ]
    }
   ],
   "source": [
    "for idx, seq in enumerate(dataset):\n",
    "    print(f\"----------------------------Evaluating video named {seq.sequence_name}----------------------------------\")\n",
    "    bboxes = []\n",
    "    for frame_idx, frame in enumerate(seq):\n",
    "        image_color = frame['image']\n",
    "        if TRACKER == \"mosse\":\n",
    "            image = np.sum(image_color, 2) / 3 # grayscale\n",
    "        else:\n",
    "            image = np.transpose(np.float64(image_color), (2, 0, 1))\n",
    "        if frame_idx == 0:\n",
    "            bbox = copy(frame['bounding_box'])\n",
    "            aaaa = bbox\n",
    "            if bbox.width % 2 == 0:\n",
    "                bbox.width += 1\n",
    "            if bbox.height % 2 == 0:\n",
    "                bbox.height += 1\n",
    "            roi = get_roi(bbox, squared = squared) # get roi slightly bigger that bbox\n",
    "            tracker.start(image, bbox, roi) # first frame approach\n",
    "        else:\n",
    "            tracker.detect(image)\n",
    "            tracker.update()\n",
    "        bboxes.append(copy(tracker.bbox))\n",
    "    ious = dataset.calculate_per_frame_iou(idx, bboxes)\n",
    "    results[idx] = ious"
   ]
  },
  {
   "cell_type": "code",
   "execution_count": 10,
   "metadata": {},
   "outputs": [],
   "source": [
    "result_file = f\"../results/avg_precision/best_alexnet.json\""
   ]
  },
  {
   "cell_type": "code",
   "execution_count": 11,
   "metadata": {},
   "outputs": [],
   "source": [
    "with open(result_file, 'w') as fp:\n",
    "    json.dump(results, fp)"
   ]
  },
  {
   "cell_type": "code",
   "execution_count": 12,
   "metadata": {},
   "outputs": [],
   "source": [
    "def get_avg_precision(list_ious, threshold = 0.5):\n",
    "    return np.sum((np.array(list_ious)>threshold)) / len(list_ious)"
   ]
  },
  {
   "cell_type": "code",
   "execution_count": 13,
   "metadata": {},
   "outputs": [],
   "source": [
    "ious = []"
   ]
  },
  {
   "cell_type": "code",
   "execution_count": 14,
   "metadata": {},
   "outputs": [],
   "source": [
    "for iou in list(results.values()):\n",
    "    ious.extend(iou)"
   ]
  },
  {
   "cell_type": "code",
   "execution_count": 15,
   "metadata": {},
   "outputs": [
    {
     "data": {
      "text/plain": [
       "0.46111334405144694"
      ]
     },
     "execution_count": 15,
     "metadata": {},
     "output_type": "execute_result"
    }
   ],
   "source": [
    "get_avg_precision(ious, threshold=0.5)"
   ]
  },
  {
   "cell_type": "code",
   "execution_count": null,
   "metadata": {},
   "outputs": [],
   "source": []
  },
  {
   "cell_type": "code",
   "execution_count": null,
   "metadata": {},
   "outputs": [],
   "source": []
  }
 ],
 "metadata": {
  "kernelspec": {
   "display_name": "Python 3",
   "language": "python",
   "name": "python3"
  },
  "language_info": {
   "codemirror_mode": {
    "name": "ipython",
    "version": 3
   },
   "file_extension": ".py",
   "mimetype": "text/x-python",
   "name": "python",
   "nbconvert_exporter": "python",
   "pygments_lexer": "ipython3",
   "version": "3.6.12"
  }
 },
 "nbformat": 4,
 "nbformat_minor": 4
}
